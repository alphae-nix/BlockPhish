{
  "nbformat": 4,
  "nbformat_minor": 0,
  "metadata": {
    "colab": {
      "name": "Notebook_MiseEnForme_DesDonees_Et_IA.ipynb",
      "provenance": []
    },
    "kernelspec": {
      "name": "python3",
      "display_name": "Python 3"
    },
    "language_info": {
      "name": "python"
    }
  },
  "cells": [
    {
      "cell_type": "markdown",
      "metadata": {
        "id": "byzPSYxKhXew"
      },
      "source": [
        "# BlockPhish AI"
      ]
    },
    {
      "cell_type": "markdown",
      "metadata": {
        "id": "6Lhwh7-bgcMG"
      },
      "source": [
        "This notebook can be executed with Google Colab.\n",
        "\n",
        "This notebook contains :\n",
        "\n",
        "* The data formatting\n",
        "* Neural network training\n",
        "\n"
      ]
    },
    {
      "cell_type": "markdown",
      "metadata": {
        "id": "NbYzvAq_hmHT"
      },
      "source": [
        "If you want to compile the neural network please load the following files in the current session:\n",
        "* phishing_url_save.p\n",
        "* good_url_save.p\n",
        "\n",
        "This is the list of all the required imports:\n",
        "\n",
        "\n"
      ]
    },
    {
      "cell_type": "code",
      "metadata": {
        "id": "RisJG4_cgCmb"
      },
      "source": [
        "import numpy as np \n",
        "import pandas as pd\n",
        "import pickle as pk\n",
        "import matplotlib.pyplot as plt\n",
        "import itertools\n",
        "from sklearn import preprocessing\n",
        "from sklearn.preprocessing import StandardScaler\n",
        "import sklearn.model_selection as model_selection\n",
        "from keras import utils, layers, models, optimizers"
      ],
      "execution_count": 71,
      "outputs": []
    },
    {
      "cell_type": "markdown",
      "metadata": {
        "id": "G8Sm-hzJjPuM"
      },
      "source": [
        "We load our data from the two following pickle files using pandas"
      ]
    },
    {
      "cell_type": "code",
      "metadata": {
        "id": "aFsp4deaitjf"
      },
      "source": [
        "phishing_data = pd.read_pickle(\"phishing_url_save.p\")\n",
        "good_data = pd.read_pickle(\"good_url_save.p\")"
      ],
      "execution_count": 72,
      "outputs": []
    },
    {
      "cell_type": "markdown",
      "metadata": {
        "id": "HFKS1Q69jbx9"
      },
      "source": [
        "This is the list of names of the different data parameters"
      ]
    },
    {
      "cell_type": "code",
      "metadata": {
        "id": "4-fH7sB3jBCs"
      },
      "source": [
        "columns=['having_IPhaving_IP_Address','URLURL_Length','Shortining_Service','having_At_Symbol','double_slash_redirecting','Prefix_Suffix','having_Sub_Domain','SSLfinal_State','Domain_registeration_length','Favicon','port','HTTPS_token','Request_URL','URL_of_Anchor','Links_in_tags']"
      ],
      "execution_count": 73,
      "outputs": []
    },
    {
      "cell_type": "markdown",
      "metadata": {
        "id": "CYtXbDeQjq9p"
      },
      "source": [
        "Using Pandas we open two dataframes and add the corresponding result column"
      ]
    },
    {
      "cell_type": "code",
      "metadata": {
        "id": "GXRIDpnojF7y"
      },
      "source": [
        "first_df = pd.DataFrame(phishing_data,columns=columns)\n",
        "second_df = pd.DataFrame(good_data,columns=columns)\n",
        "\n",
        "listP=[]\n",
        "listS=[]\n",
        "for i in range(first_df.shape[0]):\n",
        "  listP.append(0)\n",
        "for i in range(second_df.shape[0]):\n",
        "  listS.append(1)\n",
        "\n",
        "first_df = first_df.assign(Result=listP)\n",
        "second_df = second_df.assign(Result=listS)\n"
      ],
      "execution_count": 74,
      "outputs": []
    },
    {
      "cell_type": "markdown",
      "metadata": {
        "id": "UlPDmfKGnNqc"
      },
      "source": [
        "\n",
        "We group together the two dataframes and mix the rows"
      ]
    },
    {
      "cell_type": "code",
      "metadata": {
        "id": "w18LP98Fm6_G"
      },
      "source": [
        "dataframe=first_df.append(second_df)\n",
        "dataframe=dataframe.sample(axis=0,frac=1)"
      ],
      "execution_count": 75,
      "outputs": []
    },
    {
      "cell_type": "code",
      "metadata": {
        "id": "NOlLQh53ndK3"
      },
      "source": [
        "#dataframe Uncoment this line if you want to see what the dataframe looks like"
      ],
      "execution_count": 25,
      "outputs": []
    },
    {
      "cell_type": "markdown",
      "metadata": {
        "id": "a9Zl0qQPoIuC"
      },
      "source": [
        "We move the result column away to able the AI to train on and test the data. Then we normalize our data using min_max_scaler before splitting the data into two dataset for training and testing the neural network."
      ]
    },
    {
      "cell_type": "code",
      "metadata": {
        "id": "aA399fKenrsx"
      },
      "source": [
        "result = dataframe['Result']\n",
        "del dataframe['Result']\n",
        "data = dataframe[columns]\n",
        "results = result.values\n",
        "dataset = data.values\n",
        " \n",
        "min_max_scaler = preprocessing.StandardScaler()\n",
        "dataset_scale = min_max_scaler.fit_transform(dataset)\n",
        "\n",
        "#Split train data(70%) and test data(30%)\n",
        "train_dataset,test_dataset,train_resultats,test_resultats = model_selection.train_test_split(dataset_scale,results, train_size=0.7,test_size=0.3)"
      ],
      "execution_count": 76,
      "outputs": []
    },
    {
      "cell_type": "markdown",
      "metadata": {
        "id": "BSRI6VbTtX3z"
      },
      "source": [
        "This is the neural network, with 4 Dense layers using StocahisticGradientDescent optimizer: SGD and BinaryCrossentropy Loss."
      ]
    },
    {
      "cell_type": "code",
      "metadata": {
        "colab": {
          "base_uri": "https://localhost:8080/"
        },
        "id": "ZZd-T7gXpEmF",
        "outputId": "5f633fe0-06c9-469c-f530-18feaa0dc400"
      },
      "source": [
        "#Training Model\n",
        "# Define the neural network\n",
        "\n",
        "model = models.Sequential()\n",
        "model.add(layers.Dense(32, activation='relu', input_shape=(15,)))\n",
        "model.add(layers.Dense(16, activation='relu'))\n",
        "model.add(layers.Dense(1, activation='relu'))\n",
        "model.add(layers.Dense(1, activation='sigmoid'))\n",
        "\n",
        "model.compile(optimizer='sgd', loss='binary_crossentropy', metrics=['accuracy'])\n",
        "history = model.fit(\n",
        "        train_dataset,#visages d'entrainement\n",
        "        train_resultats,#noms d'entrainement\n",
        "        batch_size = 15,#ajout batchsize\n",
        "        epochs=20,#nombre d'iteration\n",
        "        validation_data= (test_dataset,test_resultats)) #visages et noms de test"
      ],
      "execution_count": 81,
      "outputs": [
        {
          "output_type": "stream",
          "text": [
            "Epoch 1/20\n",
            "818/818 [==============================] - 2s 2ms/step - loss: 0.6857 - accuracy: 0.6054 - val_loss: 0.6528 - val_accuracy: 0.6926\n",
            "Epoch 2/20\n",
            "818/818 [==============================] - 1s 2ms/step - loss: 0.6357 - accuracy: 0.7027 - val_loss: 0.5708 - val_accuracy: 0.7620\n",
            "Epoch 3/20\n",
            "818/818 [==============================] - 1s 2ms/step - loss: 0.5591 - accuracy: 0.7544 - val_loss: 0.5231 - val_accuracy: 0.7664\n",
            "Epoch 4/20\n",
            "818/818 [==============================] - 2s 2ms/step - loss: 0.5152 - accuracy: 0.7694 - val_loss: 0.5059 - val_accuracy: 0.7721\n",
            "Epoch 5/20\n",
            "818/818 [==============================] - 2s 2ms/step - loss: 0.5069 - accuracy: 0.7679 - val_loss: 0.4974 - val_accuracy: 0.7774\n",
            "Epoch 6/20\n",
            "818/818 [==============================] - 1s 2ms/step - loss: 0.4913 - accuracy: 0.7733 - val_loss: 0.4933 - val_accuracy: 0.7769\n",
            "Epoch 7/20\n",
            "818/818 [==============================] - 1s 2ms/step - loss: 0.4837 - accuracy: 0.7763 - val_loss: 0.4901 - val_accuracy: 0.7788\n",
            "Epoch 8/20\n",
            "818/818 [==============================] - 2s 2ms/step - loss: 0.4874 - accuracy: 0.7689 - val_loss: 0.4873 - val_accuracy: 0.7839\n",
            "Epoch 9/20\n",
            "818/818 [==============================] - 1s 2ms/step - loss: 0.4845 - accuracy: 0.7753 - val_loss: 0.4830 - val_accuracy: 0.7837\n",
            "Epoch 10/20\n",
            "818/818 [==============================] - 2s 2ms/step - loss: 0.4811 - accuracy: 0.7751 - val_loss: 0.4859 - val_accuracy: 0.7849\n",
            "Epoch 11/20\n",
            "818/818 [==============================] - 1s 2ms/step - loss: 0.4834 - accuracy: 0.7711 - val_loss: 0.4810 - val_accuracy: 0.7883\n",
            "Epoch 12/20\n",
            "818/818 [==============================] - 1s 2ms/step - loss: 0.4716 - accuracy: 0.7844 - val_loss: 0.4804 - val_accuracy: 0.7856\n",
            "Epoch 13/20\n",
            "818/818 [==============================] - 1s 2ms/step - loss: 0.4707 - accuracy: 0.7856 - val_loss: 0.4811 - val_accuracy: 0.7860\n",
            "Epoch 14/20\n",
            "818/818 [==============================] - 1s 2ms/step - loss: 0.4709 - accuracy: 0.7859 - val_loss: 0.4793 - val_accuracy: 0.7837\n",
            "Epoch 15/20\n",
            "818/818 [==============================] - 1s 2ms/step - loss: 0.4674 - accuracy: 0.7852 - val_loss: 0.4769 - val_accuracy: 0.7889\n",
            "Epoch 16/20\n",
            "818/818 [==============================] - 2s 2ms/step - loss: 0.4780 - accuracy: 0.7806 - val_loss: 0.4769 - val_accuracy: 0.7946\n",
            "Epoch 17/20\n",
            "818/818 [==============================] - 1s 2ms/step - loss: 0.4676 - accuracy: 0.7845 - val_loss: 0.4744 - val_accuracy: 0.7955\n",
            "Epoch 18/20\n",
            "818/818 [==============================] - 2s 2ms/step - loss: 0.4629 - accuracy: 0.7923 - val_loss: 0.4794 - val_accuracy: 0.7822\n",
            "Epoch 19/20\n",
            "818/818 [==============================] - 1s 2ms/step - loss: 0.4570 - accuracy: 0.7909 - val_loss: 0.4739 - val_accuracy: 0.7908\n",
            "Epoch 20/20\n",
            "818/818 [==============================] - 1s 2ms/step - loss: 0.4663 - accuracy: 0.7850 - val_loss: 0.4697 - val_accuracy: 0.7881\n"
          ],
          "name": "stdout"
        }
      ]
    },
    {
      "cell_type": "markdown",
      "metadata": {
        "id": "hqP4s277unoy"
      },
      "source": [
        "The next cell will display the curves of training and testing accuracy and loss"
      ]
    },
    {
      "cell_type": "code",
      "metadata": {
        "colab": {
          "base_uri": "https://localhost:8080/",
          "height": 545
        },
        "id": "NHSXBREishwV",
        "outputId": "4cf03807-f158-4ba2-fb53-44ff824c7142"
      },
      "source": [
        "# Get the training info\n",
        "loss     = history.history['loss']\n",
        "val_loss = history.history['val_loss']\n",
        "acc      = history.history['accuracy']\n",
        "val_acc  = history.history['val_accuracy']\n",
        "\n",
        "# Visualize the history plots\n",
        "plt.figure()\n",
        "plt.plot(loss, 'b', label='Training loss')\n",
        "plt.plot(val_loss, 'm', label='Validation loss')\n",
        "plt.title('Training and validation loss')\n",
        "plt.legend()\n",
        "plt.show()\n",
        "plt.figure()\n",
        "plt.plot(acc, 'b', label='Training acc')\n",
        "plt.plot(val_acc, 'm', label='Validation acc')\n",
        "plt.title('Training and validation accuracy')\n",
        "plt.legend()\n",
        "plt.show()"
      ],
      "execution_count": 83,
      "outputs": [
        {
          "output_type": "display_data",
          "data": {
            "image/png": "[encoded data removed]",
            "text/plain": [
              "<Figure size 432x288 with 1 Axes>"
            ]
          },
          "metadata": {
            "tags": [],
            "needs_background": "light"
          }
        },
        {
          "output_type": "display_data",
          "data": {
            "image/png": "[encoded data removed]",
            "text/plain": [
              "<Figure size 432x288 with 1 Axes>"
            ]
          },
          "metadata": {
            "tags": [],
            "needs_background": "light"
          }
        }
      ]
    }
  ]
}